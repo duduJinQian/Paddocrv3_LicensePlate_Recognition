{
 "cells": [
  {
   "cell_type": "markdown",
   "id": "54c16753-aa52-49ea-9676-443f8009e3bf",
   "metadata": {},
   "source": [
    "\n",
    "    \n",
    "### PaddleOCRv3实现车牌识别\n",
    "\n",
    "\n",
    "训练PaddleOCRv3模型，对于牌数据集CCPD进行预测，并导出模型可以支持直接调用。该实现脚本储存在 Paddleocrv3 文件夹下。\n",
    "\n",
    "环境配置：\n",
    "- PaddlePaddle: 2.3\n",
    "- paddleslim: 2.2.2\n",
    "- PaddleOCR: Release/2.\n",
    "\n",
    "Predict\n",
    "\n",
    "- 利用训练好的模型Predict ，见脚本： predict_paddleocr_plate..ipynb\n",
    "- 预测结果如下：\n",
    "     16.jpg\t[{\"transcription\": \"鲁A13NA7\", \"points\": [[359, 1023], [560, 1009], [564, 1073], [363, 1088]], \"recscore\": 0.91103196144104}]\n",
    "![PaddleOCR_Result](16.jpg)\n",
    "\n",
    "\n",
    "\n",
    "Train       \n",
    "\n",
    "- 见脚本： train_vehicle license plate recognition.ipynb\n",
    "\n",
    "\n"
   ]
  },
  {
   "cell_type": "code",
   "execution_count": null,
   "id": "be258222-ee3e-484c-9f16-a85d1680d78d",
   "metadata": {},
   "outputs": [],
   "source": []
  }
 ],
 "metadata": {
  "kernelspec": {
   "display_name": "Python [conda env:ultra]",
   "language": "python",
   "name": "conda-env-ultra-py"
  },
  "language_info": {
   "codemirror_mode": {
    "name": "ipython",
    "version": 3
   },
   "file_extension": ".py",
   "mimetype": "text/x-python",
   "name": "python",
   "nbconvert_exporter": "python",
   "pygments_lexer": "ipython3",
   "version": "3.9.19"
  }
 },
 "nbformat": 4,
 "nbformat_minor": 5
}
