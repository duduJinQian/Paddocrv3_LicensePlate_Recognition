{
 "cells": [
  {
   "cell_type": "code",
   "execution_count": 18,
   "id": "5cfd125f-2990-4828-b13c-cba91564ca7d",
   "metadata": {},
   "outputs": [],
   "source": [
    "import cv2\n",
    "import os\n",
    "import json\n",
    "from tqdm import tqdm\n",
    "import numpy as np\n",
    "import pandas as pd\n",
    "from matplotlib import pyplot as plt\n",
    "%matplotlib inline"
   ]
  },
  {
   "cell_type": "code",
   "execution_count": null,
   "id": "62cf38c9-7196-4e7e-b3de-ee14b455a73e",
   "metadata": {},
   "outputs": [],
   "source": []
  },
  {
   "cell_type": "code",
   "execution_count": null,
   "id": "3bce478a-2480-4b35-8c75-9011eae79a2b",
   "metadata": {},
   "outputs": [],
   "source": [
    "# 输出预测概率值"
   ]
  },
  {
   "cell_type": "code",
   "execution_count": null,
   "id": "528e4753-a5f1-4628-859f-fd262382aa31",
   "metadata": {},
   "outputs": [],
   "source": [
    "## 01 单条执行\n",
    "## 获取模型结果值"
   ]
  },
  {
   "cell_type": "code",
   "execution_count": 19,
   "id": "785c80bf-e0fc-4250-b796-0b98b982656c",
   "metadata": {
    "scrolled": true,
    "tags": []
   },
   "outputs": [
    {
     "name": "stdout",
     "output_type": "stream",
     "text": [
      "WARNING: OMP_NUM_THREADS set to 12, not 1. The computation speed will not be optimized if you use data parallel. It will fail if this PaddlePaddle binary is compiled with OpenBlas since OpenBlas does not support multi-threads.\n",
      "PLEASE USE OMP_NUM_THREADS WISELY.\n",
      "Namespace(alpha=1.0, benchmark=False, beta=1.0, cls_batch_num=6, cls_image_shape='3, 48, 192', cls_model_dir=None, cls_thresh=0.9, cpu_threads=10, crop_res_save_dir='./output', det_algorithm='DB', det_box_type='quad', det_db_box_thresh=0.6, det_db_score_mode='fast', det_db_thresh=0.3, det_db_unclip_ratio=1.5, det_east_cover_thresh=0.1, det_east_nms_thresh=0.2, det_east_score_thresh=0.8, det_limit_side_len=736.0, det_limit_type='min', det_model_dir='output/CCPD/det/infer', det_pse_box_thresh=0.85, det_pse_min_area=16, det_pse_scale=1, det_pse_thresh=0, det_sast_nms_thresh=0.2, det_sast_score_thresh=0.5, draw_img_save_dir='./inference_results', drop_score=0.5, e2e_algorithm='PGNet', e2e_char_dict_path='./ppocr/utils/ic15_dict.txt', e2e_limit_side_len=768, e2e_limit_type='max', e2e_model_dir=None, e2e_pgnet_mode='fast', e2e_pgnet_score_thresh=0.5, e2e_pgnet_valid_set='totaltext', enable_mkldnn=False, fourier_degree=5, gpu_id=0, gpu_mem=500, image_dir='/root/cardata/cardata/16.jpg', ir_optim=True, label_list=['0', '180'], max_batch_size=10, max_text_length=25, min_subgraph_size=15, page_num=0, precision='fp32', process_id=0, rec_algorithm='SVTR_LCNet', rec_batch_num=6, rec_char_dict_path='./ppocr/utils/ppocr_keys_v1.txt', rec_image_inverse=True, rec_image_shape='3, 48, 320', rec_model_dir='output/CCPD/rec/infer_ocr', return_word_box=False, save_crop_res=False, save_log_path='./log_output/', scales=[8, 16, 32], show_log=True, sr_batch_num=1, sr_image_shape='3, 32, 128', sr_model_dir=None, total_process_num=1, use_angle_cls=False, use_dilation=True, use_gpu=True, use_mp=False, use_npu=False, use_onnx=False, use_pdserving=False, use_space_char=True, use_tensorrt=False, use_xpu=False, vis_font_path='./doc/fonts/simfang.ttf', warmup=False)\n",
      "[{'transcription': '鲁A13NA7', 'points': [[359, 1023], [560, 1009], [564, 1073], [363, 1088]], 'recscore': 0.91103196144104}]\n",
      "[2024/09/24 15:24:42] ppocr INFO: The predict total time is 2.2589304447174072\n"
     ]
    }
   ],
   "source": [
    "! python tools/infer/predict_system.py \\\n",
    "    --det_model_dir=output/CCPD/det/infer  \\\n",
    "    --rec_model_dir=output/CCPD/rec/infer_ocr \\\n",
    "    --image_dir=\"/root/cardata/cardata/16.jpg\" \\\n",
    "    --det_limit_side_len=736 \\\n",
    "    --det_limit_type=min \\\n",
    "    --use_dilation=true"
   ]
  },
  {
   "cell_type": "code",
   "execution_count": null,
   "id": "0e859f74-112d-402f-af2e-fff42e02d833",
   "metadata": {},
   "outputs": [],
   "source": [
    "## 02 批量执行"
   ]
  },
  {
   "cell_type": "code",
   "execution_count": null,
   "id": "3be2a202-297b-4fd8-bdfe-5e2587d586b8",
   "metadata": {},
   "outputs": [],
   "source": [
    "## 原脚本\n",
    "#! python3 tools/infer/predict_system.py --det_model_dir=output/CCPD/det/infer --rec_model_dir=output/CCPD/rec/infer --det_limit_side_len=736 --det_limit_type=min --image_dir=/root/ocrdata/CCPD2020/ccpd_green/test/ --draw_img_save_dir=infer/fine-tune --use_dilation=true"
   ]
  },
  {
   "cell_type": "code",
   "execution_count": 20,
   "id": "7f60feb0-ec2c-4644-afa3-622d426df9c6",
   "metadata": {},
   "outputs": [
    {
     "name": "stdout",
     "output_type": "stream",
     "text": [
      "WARNING: OMP_NUM_THREADS set to 12, not 1. The computation speed will not be optimized if you use data parallel. It will fail if this PaddlePaddle binary is compiled with OpenBlas since OpenBlas does not support multi-threads.\n",
      "PLEASE USE OMP_NUM_THREADS WISELY.\n",
      "Namespace(alpha=1.0, benchmark=False, beta=1.0, cls_batch_num=6, cls_image_shape='3, 48, 192', cls_model_dir=None, cls_thresh=0.9, cpu_threads=10, crop_res_save_dir='./output', det_algorithm='DB', det_box_type='quad', det_db_box_thresh=0.6, det_db_score_mode='fast', det_db_thresh=0.3, det_db_unclip_ratio=1.5, det_east_cover_thresh=0.1, det_east_nms_thresh=0.2, det_east_score_thresh=0.8, det_limit_side_len=736.0, det_limit_type='min', det_model_dir='output/CCPD/det/infer', det_pse_box_thresh=0.85, det_pse_min_area=16, det_pse_scale=1, det_pse_thresh=0, det_sast_nms_thresh=0.2, det_sast_score_thresh=0.5, draw_img_save_dir='/root/cardata/cardata_result/', drop_score=0.5, e2e_algorithm='PGNet', e2e_char_dict_path='./ppocr/utils/ic15_dict.txt', e2e_limit_side_len=768, e2e_limit_type='max', e2e_model_dir=None, e2e_pgnet_mode='fast', e2e_pgnet_score_thresh=0.5, e2e_pgnet_valid_set='totaltext', enable_mkldnn=False, fourier_degree=5, gpu_id=0, gpu_mem=500, image_dir='/root/cardata/cardata/', ir_optim=True, label_list=['0', '180'], max_batch_size=10, max_text_length=25, min_subgraph_size=15, page_num=0, precision='fp32', process_id=0, rec_algorithm='SVTR_LCNet', rec_batch_num=6, rec_char_dict_path='./ppocr/utils/ppocr_keys_v1.txt', rec_image_inverse=True, rec_image_shape='3, 48, 320', rec_model_dir='output/CCPD/rec/infer_ocr', return_word_box=False, save_crop_res=False, save_log_path='./log_output/', scales=[8, 16, 32], show_log=True, sr_batch_num=1, sr_image_shape='3, 32, 128', sr_model_dir=None, total_process_num=1, use_angle_cls=False, use_dilation=True, use_gpu=True, use_mp=False, use_npu=False, use_onnx=False, use_pdserving=False, use_space_char=True, use_tensorrt=False, use_xpu=False, vis_font_path='./doc/fonts/simfang.ttf', warmup=False)\n",
      "[{'transcription': '鲁AP500S', 'points': [[1222, 560], [1420, 525], [1436, 609], [1237, 644]], 'recscore': 0.9354127645492554}]\n",
      "[{'transcription': '鲁A29JL8', 'points': [[382, 433], [603, 462], [592, 544], [371, 515]], 'recscore': 0.9810502529144287}]\n",
      "[{'transcription': '鲁AD10A2', 'points': [[455, 853], [729, 853], [729, 915], [455, 915]], 'recscore': 0.9208455681800842}]\n",
      "[]\n",
      "[]\n",
      "[{'transcription': '鲁A577JQ', 'points': [[924, 494], [1180, 434], [1204, 534], [948, 594]], 'recscore': 0.9046911597251892}]\n",
      "[{'transcription': '鲁A13NA7', 'points': [[359, 1023], [560, 1009], [564, 1073], [363, 1088]], 'recscore': 0.91103196144104}]\n",
      "[2024/09/24 15:24:55] ppocr INFO: The predict total time is 6.249530792236328\n"
     ]
    }
   ],
   "source": [
    "# 修改批量输入文件目录\n",
    "! python3 tools/infer/predict_system.py \\\n",
    "    --det_model_dir=output/CCPD/det/infer \\\n",
    "    --rec_model_dir=output/CCPD/rec/infer_ocr \\\n",
    "    --det_limit_side_len=736 \\\n",
    "    --det_limit_type=min \\\n",
    "    --image_dir=/root/cardata/cardata/ \\\n",
    "    --draw_img_save_dir=/root/cardata/cardata_result/ \\\n",
    "    --use_dilation=true"
   ]
  },
  {
   "cell_type": "code",
   "execution_count": 16,
   "id": "81b464bc-c29b-4322-897c-5a8ff81dc3fe",
   "metadata": {},
   "outputs": [
    {
     "data": {
      "text/plain": [
       "'[{\"transcription\": \"鲁AP500S\", \"points\": [[1222, 560], [1420, 525], [1436, 609], [1237, 644]], \"recscore\": 0.9354127645492554}]'"
      ]
     },
     "execution_count": 16,
     "metadata": {},
     "output_type": "execute_result"
    }
   ],
   "source": [
    "result=pd.read_csv(\"/root/cardata/cardata_result/system_results.txt\", sep='\\t', names=[\"src_name\", \"predict_result\"])\n",
    "result['predict_result'][0]"
   ]
  },
  {
   "cell_type": "code",
   "execution_count": null,
   "id": "88a3b366-4196-4033-a6e5-8a6f86646700",
   "metadata": {},
   "outputs": [],
   "source": []
  }
 ],
 "metadata": {
  "kernelspec": {
   "display_name": "Python 3 (ipykernel)",
   "language": "python",
   "name": "python3"
  },
  "language_info": {
   "codemirror_mode": {
    "name": "ipython",
    "version": 3
   },
   "file_extension": ".py",
   "mimetype": "text/x-python",
   "name": "python",
   "nbconvert_exporter": "python",
   "pygments_lexer": "ipython3",
   "version": "3.8.10"
  }
 },
 "nbformat": 4,
 "nbformat_minor": 5
}
